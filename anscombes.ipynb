{
 "cells": [
  {
   "cell_type": "markdown",
   "metadata": {},
   "source": [
    "<p align=\"center\">\n",
    "  <img src=\"img/GMITLOGO.jpg\" width=\"500px\" height=\"200px\"/></p>"
   ]
  },
  {
   "cell_type": "markdown",
   "metadata": {},
   "source": [
    "# GMIT, H.Dip in Data Analytics, Fundamentals of Data Analysis Assignment 2018"
   ]
  },
  {
   "cell_type": "markdown",
   "metadata": {},
   "source": [
    "## 1. Introduction\n",
    "\n",
    "This repository contains all of the files pertaining to my 2018 assignment submission for the Fundamentals of Data \n",
    "Analysis module of the GMIT H.Dip program in Data Analytics. All of the work within this repository was carried out over the course of a 4 week period in October and November 2018. This Jupyter notebook [1] contains the complete documentation for the project."
   ]
  },
  {
   "cell_type": "markdown",
   "metadata": {},
   "source": [
    "### 1.1 Project Objectives\n",
    "\n",
    "The objective of the assignement is to carry out some research into the \"Anscombe's Quartet\" data set[2]. The data set is to be analysed in this notebook. There are four main tasks in the assignment[3]:\n",
    "\n",
    "1. Explain the background to the dataset – who created it, when it was created, and any speculation you can find regarding how it might have been created.\n",
    "1. Plot the interesting aspects of the dataset.\n",
    "1. Calculate the descriptive statistics of the variables in the dataset.\n",
    "1. Explain why the dataset is interesting, referring to the plots and statistics above.\n",
    "\n",
    "Before analysing the data set it must first be downloaded. It is widely available on the internet, for this assignment it was downloaded from [here](https://github.com/vincentarelbundock/Rdatasets/blob/master/csv/datasets/anscombe.csv). "
   ]
  },
  {
   "cell_type": "markdown",
   "metadata": {},
   "source": [
    "## 2. Background to the Anscombe's Quartet Data Set\n",
    "\n",
    "The Anscombe Quartet data set was first published by Francis Anscombe in 1973 [5]. Anscombe was a British statistician who studied maths at Cambridge and worked for the Ministry of Supply during World War 2 on statistical issues relating to quality control. Following the war he returned to Cambridge where he was active in statistical research. In 1955 he moved to moved to America where he worked at both Princeton and Yale. It was at Yale where he developed an interst in statistical computing, where he drew upon his background in sampling of inspections for industrial quality control, the foundations of probability and analysis if variance [6]. He published a text on the subject \"Computing in Statistical Science Through APL\". (APL - A Programming Language!)  \n",
    "\n",
    "<p align=\"center\">\n",
    "  <img src=\"img/anscombe.jpeg\" width=\"200px\" height=\"200px\"/></p>\n",
    " <p style=\"text-align: center;\"> <b><I>Frank Anscombe</I></b> </p>  \n",
    "  \n",
    " Anscombe cautioned against misdiagnosis and the misapplication of computer models, without fully understanding a data set. To this end he created the Anscombe's Quartet data set to demonstrate 4 completely different functions which all have the same underlying descriptive statistics (mean, standard deviation, linear regression line etc.), but when plotted - they can be seen to be completely different. At the time that the data set was developed, many statisticians believed that graphs were imprecise and that descritive statistics were a better way to fully define what was going on in a set of data. Anscombe disagreed with this and created the quartet to show the benefits of data visualisation believeing that both data and graphs contributed to the understanding of a data set.\n",
    " \n",
    " Anscombe never documented how he came up with the data sets, so it has been left to speculation as to how he did it. According to Matejka and Fitzmaurice, the effectiveness of the quartet is not just that the 4 data sets have similar descriptive statistics, rather that they have similar descriptive statistics *and* that they are so very distinct visually. In there paper titled \"*Same Stats, Different Graphs: Generating Datasets with Varied Appearance and Identical Statistics through Simulated Annealing*\" [7] - they illustarted this point using the graphic shown below:\n",
    " \n",
    " \n",
    "  \n",
    "  In Anscombe's Quartet on the left, the 4 data sets are strikingly different, whereas in the unstructured data set on the right they are visually similar. In this paper, the researchers looked to create an algorithm for generating such data sets as Anscombe's. They believed that while it is relatively difficult to create a new data set from scratch that had similar descritive statistics but was very different visually, it would be relatively easy to take an existing data set and modify it slightly while maintaining those statistical properties. \n",
    "  \n",
    "  https://blog.acolyer.org/2017/10/31/same-stats-different-graphs-generating-datasets-with-varied-appearance-and-identical-statistics-through-simulated-annealing/ **Look at entering this tomorrow**\n",
    "  In order to ensure that the resulting plots are visually distinct they created some biases in the random modifications to move the points towards some prefered shapes. In the course of this reseach the team were able to move data poins from a dinosaur shape through many others such as X's, straight lines and ovals. It is possible that Anscombe used a similar method while creating his dataset."
   ]
  },
  {
   "cell_type": "markdown",
   "metadata": {},
   "source": [
    "## 3. Plots of the Anscombe's Data Sets"
   ]
  },
  {
   "cell_type": "markdown",
   "metadata": {},
   "source": [
    "## 4. Calculation of the Descriptive Statistics"
   ]
  },
  {
   "cell_type": "markdown",
   "metadata": {},
   "source": [
    "## 5. Discussion and Conclusions"
   ]
  },
  {
   "cell_type": "markdown",
   "metadata": {},
   "source": [
    "## References\n",
    "\n",
    "[1] Project Jupyter. Project Jupyter Home. (_https://www.jupyter.org/_)  \n",
    "[2] Math Warehouse. What is Anscombes Quarter in Statistics? (_https://www.mathwarehouse.com/statistics/what-is-anscombes-quartet.php_)  \n",
    "[3] Dr. Ian McLoughlin. GMIT. Assignment 2018: Fundamentals of Data Analysis (_https://github.com/ianmcloughlin/assignment-2018-fundda/raw/master/assignment.pdf_)  \n",
    "[4] R data sets. Anscombe’s quartet of identical simple linear regressions. (_https://github.com/vincentarelbundock/Rdatasets/blob/master/csv/datasets/anscombe.csv_)   \n",
    "[5] Royal Statistical Society. Obituaries - Frank Ascombe (_https://rss.onlinelibrary.wiley.com/doi/full/10.1046/j.0039-0526.2003.02064.x_)    \n",
    "[6] Wolfgang Saxon. New York Time Obituary (_https://www.nytimes.com/2001/10/25/nyregion/francis-john-anscombe-83-mathematician-and-professor.html_)  \n",
    "[7] Justin Matejka, George Fitzmaurice. Same Stats, Different Graphs: Generating Datasets with Varied Appearance and Identical Statistics through Simulated Annealing. (_https://www.autodeskresearch.com/publications/samestats_)"
   ]
  },
  {
   "cell_type": "markdown",
   "metadata": {},
   "source": [
    "# DONT FORGET TO UPDATE THE README.md FILE!!"
   ]
  },
  {
   "cell_type": "code",
   "execution_count": null,
   "metadata": {},
   "outputs": [],
   "source": []
  }
 ],
 "metadata": {
  "kernelspec": {
   "display_name": "Python 3",
   "language": "python",
   "name": "python3"
  },
  "language_info": {
   "codemirror_mode": {
    "name": "ipython",
    "version": 3
   },
   "file_extension": ".py",
   "mimetype": "text/x-python",
   "name": "python",
   "nbconvert_exporter": "python",
   "pygments_lexer": "ipython3",
   "version": "3.6.6"
  }
 },
 "nbformat": 4,
 "nbformat_minor": 2
}
