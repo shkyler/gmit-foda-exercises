{
 "cells": [
  {
   "cell_type": "markdown",
   "metadata": {},
   "source": [
    "<p align=\"center\">\n",
    "  <img src=\"img/GMITLOGO.jpg\" width=\"500\"/></p>"
   ]
  },
  {
   "cell_type": "markdown",
   "metadata": {},
   "source": [
    "# GMIT, H.Dip in Data Analytics, Fundamentals of Data Analysis Assignment 2018"
   ]
  },
  {
   "cell_type": "markdown",
   "metadata": {},
   "source": [
    "## 1. Introduction\n",
    "\n",
    "This repository contains all of the files pertaining to my 2018 assignment submission for the Fundamentals of Data \n",
    "Analysis module of the GMIT H.Dip program in Data Analytics. All of the work within this repository was carried out over the course of a 4 week period in October and November 2018. This Jupyter notebook [1] contains the complete documentation for the project."
   ]
  },
  {
   "cell_type": "markdown",
   "metadata": {},
   "source": [
    "### 1.1 Project Objectives\n",
    "\n",
    "The objective of the assignement is to carry out some research into the \"Anscombe's Quartet\" data set[2]. The data set is to be analysed in this notebook. There are four main tasks in the assignment[3]:\n",
    "\n",
    "1. Explain the background to the dataset – who created it, when it was created, and any speculation you can find regarding how it might have been created.\n",
    "1. Plot the interesting aspects of the dataset.\n",
    "1. Calculate the descriptive statistics of the variables in the dataset.\n",
    "1. Explain why the dataset is interesting, referring to the plots and statistics above.\n"
   ]
  },
  {
   "cell_type": "markdown",
   "metadata": {},
   "source": [
    "## 2. Background to the Anscombe's Quartet Data Set\n",
    "\n",
    "The Anscombe Quartet data set was first published by Francis Anscombe in 1973 [5]. Anscombe was a British statistician who studied maths at Cambridge and worked for the Ministry of Supply during World War 2 on statistical issues relating to quality control. Following the war he returned to Cambridge where he was active in statistical research. In 1955 he moved to moved to America where he worked at both Princeton and Yale. It was at Yale where he developed an interst in statistical computing, where he drew upon his background in sampling of inspections for industrial quality control, the foundations of probability and analysis of variance [6]. He published a text on the subject \"Computing in Statistical Science Through APL\". (APL - A Programming Language!)  \n",
    "\n",
    "<p align=\"center\">\n",
    "  <img src=\"img/anscombe.jpeg\" width=\"200\" /></p>\n",
    " <p style=\"text-align: center;\"> <b><I>Frank Anscombe</I></b> </p>  \n",
    "  \n",
    " Anscombe cautioned against misdiagnosis and the misapplication of computer models, without fully understanding a data set. To this end he created the Anscombe's Quartet data set to demonstrate 4 completely different functions which all have the same underlying descriptive statistics (mean, standard deviation, linear regression line etc.), but when plotted - they can be seen to be completely different. At the time that the data set was developed, many statisticians believed that graphs were imprecise and that descritive statistics were a better way to fully define what was going on in a set of data. Anscombe disagreed with this and created the quartet to show the benefits of data visualisation believeing that both descriptive data and graphs contributed to the understanding of a data set.\n",
    " \n",
    " Anscombe never documented how he came up with the data sets, so it has been left to speculation as to how he did it. According to Matejka and Fitzmaurice, the effectiveness of the quartet is not just that the 4 data sets have similar descriptive statistics, rather that they have similar descriptive statistics *and* that they are so very distinct visually. In their paper titled \"*Same Stats, Different Graphs: Generating Datasets with Varied Appearance and Identical Statistics through Simulated Annealing*\" [7] - they illustarted this point using the graphic shown below:\n",
    " \n",
    " <p align=\"center\">\n",
    "  <img src=\"img/img2.png\" width=\"700\" /></p>\n",
    "  \n",
    "  In Anscombe's Quartet on the left, the 4 data sets are strikingly different, whereas in the unstructured data set on the right they are visually similar. In this paper, the researchers looked to create an algorithm for generating such data sets as Anscombe's. They believed that while it is relatively difficult to create a new data set from scratch that had similar descritive statistics but was very different visually, it would be relatively easy to take an existing data set and modify it slightly while maintaining those statistical properties. \n",
    "  \n",
    " Matejka and Fitzmaurice designed an iterative algorithm that would take an existing data set and modify it slighly each time, checking that the descriptive statistics were still the same. Adrian Coyler [8] has posted and excellent explaination of how this was carried out [here](https://blog.acolyer.org/2017/10/31/same-stats-different-graphs-generating-datasets-with-varied-appearance-and-identical-statistics-through-simulated-annealing/). Coyler explains the algorithm used in psuedocode as follows:\n",
    "   \n",
    "   <p align=\"center\">\n",
    "  <img src=\"img/img3.png\" width=\"450\" /></p>\n",
    "  \n",
    " \n",
    " Where:\n",
    " * *Initial_ds* is the original dataset\n",
    " * *Perturb* is a function that modifies the original data set slightly in a random way, note that it has a temp parameter - which represents a tempterature used in *Simulated Annealing*\n",
    " * The *Fit* function checks whether on not the *Perturb* function has improved the overall fitness and accepts or rejects the perturbation as appropriate\n",
    " * The newly return Perturbation is checked to see if the statistical properties are similar (as defined to within 2 decimal places) and if so the test data set becomes the current data set until the next iteration\n",
    " \n",
    " When carrying out iterative optimisations such as this there is always a risk that the alogorithm will being to converge around a good solution (a local optimum) that isn't the best solution (the global optimum)[9]. One method to try and prevent this is called *Simulated Annealing*. This is named after the metalugic principle of annelaing method whereby the crystalline structure in the metal changes gradually as heated metal cools down. As the temperature of the metal cools slowly, the crystals are allowed to grow in size resulting in a tougher material. Simulated annealing introduces a temperature variable to the algorithm. This variable is initially set high and allowed to \"cool\" as the algorithm runs more times. The algorithm is designed in such a way that it allows worse solutions and these are accepted based on the value of the temp variable. As the temperature of the algorithm reduces so does the chance of a worse solution being accepted. But the principle allows the alogorithm to shake itself out of possiblt converging around the wrong optimum.  \n",
    " \n",
    "  In order to ensure that the resulting plots are visually distinct they created some biases in the random modifications to move the points towards some prefered shapes. In the course of this reseach the team were able to move data poins from a dinosaur shape through many others such as X's, straight lines and ovals. Examples of how the data set developed are shown here [8]:\n",
    "  \n",
    " <p align=\"center\">\n",
    "  <img src=\"img/img4.png\" width=\"450\" /></p>\n",
    "  \n",
    "  It is possible that Anscombe used a similar method while creating his dataset. "
   ]
  },
  {
   "cell_type": "markdown",
   "metadata": {},
   "source": [
    "## 3. Plots of the Anscombe's Data Sets\n",
    "\n",
    "In this section, quartet of data sets will be analysed by use of visual plots. \n",
    "Before analysing the data set it must first be downloaded. It is widely available on the internet, for this assignment it was downloaded from [here] (https://github.com/vincentarelbundock/Rdatasets/blob/master/csv/datasets/anscombe.csv).Note that the data set was modified slightly to remove a column which contained point numbers. The plots will be created using the subplot function of the matplotlib library [10] for Python. The first step is to import the required libraries."
   ]
  },
  {
   "cell_type": "code",
   "execution_count": 2,
   "metadata": {},
   "outputs": [],
   "source": [
    "# Import the required libraries\n",
    "import pandas as pd \n",
    "import numpy as np \n",
    "import matplotlib.pyplot as plt \n",
    "# Import stats to calculate the properties of the best fit line in the data sets\n",
    "from scipy import stats"
   ]
  },
  {
   "cell_type": "markdown",
   "metadata": {},
   "source": [
    "The next step is to load the data set. "
   ]
  },
  {
   "cell_type": "code",
   "execution_count": 3,
   "metadata": {},
   "outputs": [
    {
     "name": "stdout",
     "output_type": "stream",
     "text": [
      "    x1  x2  x3  x4     y1    y2     y3     y4\n",
      "0   10  10  10   8   8.04  9.14   7.46   6.58\n",
      "1    8   8   8   8   6.95  8.14   6.77   5.76\n",
      "2   13  13  13   8   7.58  8.74  12.74   7.71\n",
      "3    9   9   9   8   8.81  8.77   7.11   8.84\n",
      "4   11  11  11   8   8.33  9.26   7.81   8.47\n",
      "5   14  14  14   8   9.96  8.10   8.84   7.04\n",
      "6    6   6   6   8   7.24  6.13   6.08   5.25\n",
      "7    4   4   4  19   4.26  3.10   5.39  12.50\n",
      "8   12  12  12   8  10.84  9.13   8.15   5.56\n",
      "9    7   7   7   8   4.82  7.26   6.42   7.91\n",
      "10   5   5   5   8   5.68  4.74   5.73   6.89\n"
     ]
    }
   ],
   "source": [
    "# Load the data set from the local .csv file\n",
    "df = pd.read_csv('data/anscombes.csv')\n",
    "# Print the data set to ensure that it has loaded properly\n",
    "print(df)"
   ]
  },
  {
   "cell_type": "markdown",
   "metadata": {},
   "source": [
    "The data set has been loaded and checked, so the next step is to plot the data. While researching how this is to be done, I discovered style sheets in matplotlib which can be used to make the plot look a bit more modern. I used the *ggplot* style (recommended in the documentation)[11] to format the grids in the plots. I also used stackoverflow to learn how to resize the subplots as the defaults were quite small and hard to read [12]. Then, I learned how to plot the linear regression lines using the *stats* module from the *scipy* package [13]. Finally, I rewrote the code using a function for the subplots to tidy up the code and halving the number of lines required."
   ]
  },
  {
   "cell_type": "code",
   "execution_count": 4,
   "metadata": {},
   "outputs": [
    {
     "data": {
      "image/png": "[encoded data removed]",
      "text/plain": [
       "<matplotlib.figure.Figure at 0x109994a58>"
      ]
     },
     "metadata": {
      "needs_background": "light"
     },
     "output_type": "display_data"
    }
   ],
   "source": [
    "# Add a title to the plot\n",
    "plt.suptitle(\"Anscombe's Quartet\", fontsize=15, fontweight='bold')\n",
    "# Tidy up the plots - use more modern formatting (https://matplotlib.org/users/style_sheets.html)\n",
    "plt.style.use('ggplot')\n",
    "\n",
    "# Resize the plotting window to make it easier to read (https://stackoverflow.com/questions/36367986/how-to-make-inline-plots-in-jupyter-notebook-larger)\n",
    "plt.rcParams['figure.figsize'] = [12, 12]\n",
    "\n",
    "# Define a function to create a 2 x 2 subplot and call it for each plot in the quartet\n",
    "def sub_plot2x2(x, y, pos, title, colour):\n",
    "    # Plot Set 1\n",
    "    plt.subplot(2, 2, pos, xlim=(0,20), ylim=(0,20), xlabel=(x), ylabel=(y), title=title)\n",
    "    plt.scatter(df.loc[:, x], df.loc[:, y],c=colour, label=title, s=10)\n",
    "    plt.grid(True)\n",
    "    # Calculate the linear statistics using stats.linregress()\n",
    "    slope, intercept, r_value, p_value, std_err = stats.linregress(df.loc[:, x], df.loc[:, y])\n",
    "    # Create a range of x values from 0 to 20 (the size of the plot)\n",
    "    x_vals = np.arange(0,20.1,0.1)\n",
    "    # Calculate the y values using the slope and intercept calculted\n",
    "    y_vals = slope * x_vals + intercept\n",
    "    plt.plot(x_vals, y_vals, 'b-', linestyle='dashed',linewidth=1)\n",
    "\n",
    "sub_plot2x2('x1', 'y1', 1, 'Set 1', 'red')  \n",
    "sub_plot2x2('x2', 'y2', 2, 'Set 2', 'blue')\n",
    "sub_plot2x2('x3', 'y3', 3, 'Set 3', 'green')\n",
    "sub_plot2x2('x4', 'y4', 4, 'Set 4', 'black')\n",
    "\n",
    "# Format the spacing between the 4 plots \n",
    "plt.subplots_adjust(wspace=0.3, hspace=0.3)\n",
    "plt.show()"
   ]
  },
  {
   "cell_type": "markdown",
   "metadata": {},
   "source": [
    "As demonstarted above - even though the 4 data sets are very different visually, the best fit line for the 4 data sets is exactly the same!"
   ]
  },
  {
   "cell_type": "markdown",
   "metadata": {},
   "source": [
    "## 4. Calculation of the Descriptive Statistics\n",
    "\n",
    "In this section we can take a look at the descriptive statistics of the data sets. There are two differents sets of statistics that need to be considered:\n",
    "1. Summary data sets of the columns in the data sets (i.e. summary comparisons of the 'x' and 'y' data betwen the 4 sets.\n",
    "1. Summaries of the relationships between each of the 'x-y' pairs\n",
    "\n",
    "### Summary data sets of the columns in the data sets [reference stats for dummies]\n",
    "When statisticians want to compare to sets of similar data (e.g. house prices in differnet cities), they usually try to get an understanding of the *middle* of each data set and the *spread*. Where the middle gives an idea of what value a general data point in the set is likely to have, and the spread gives som indication of how close a data point is to this middle value. A commonly used measure for the middle of a data set is the *mean*, and the *standard deviation* can be used in conjunction with the mean to get a better feel for the data set.\n",
    "\n",
    "Pandas has a built-in `describe()` function that can be used to summarise each column in the Anscombe data set:"
   ]
  },
  {
   "cell_type": "code",
   "execution_count": 5,
   "metadata": {},
   "outputs": [
    {
     "data": {
      "text/html": [
       "<div>\n",
       "<style>\n",
       "    .dataframe thead tr:only-child th {\n",
       "        text-align: right;\n",
       "    }\n",
       "\n",
       "    .dataframe thead th {\n",
       "        text-align: left;\n",
       "    }\n",
       "\n",
       "    .dataframe tbody tr th {\n",
       "        vertical-align: top;\n",
       "    }\n",
       "</style>\n",
       "<table border=\"1\" class=\"dataframe\">\n",
       "  <thead>\n",
       "    <tr style=\"text-align: right;\">\n",
       "      <th></th>\n",
       "      <th>x1</th>\n",
       "      <th>x2</th>\n",
       "      <th>x3</th>\n",
       "      <th>x4</th>\n",
       "      <th>y1</th>\n",
       "      <th>y2</th>\n",
       "      <th>y3</th>\n",
       "      <th>y4</th>\n",
       "    </tr>\n",
       "  </thead>\n",
       "  <tbody>\n",
       "    <tr>\n",
       "      <th>count</th>\n",
       "      <td>11.000000</td>\n",
       "      <td>11.000000</td>\n",
       "      <td>11.000000</td>\n",
       "      <td>11.000000</td>\n",
       "      <td>11.000000</td>\n",
       "      <td>11.000000</td>\n",
       "      <td>11.000000</td>\n",
       "      <td>11.000000</td>\n",
       "    </tr>\n",
       "    <tr>\n",
       "      <th>mean</th>\n",
       "      <td>9.000000</td>\n",
       "      <td>9.000000</td>\n",
       "      <td>9.000000</td>\n",
       "      <td>9.000000</td>\n",
       "      <td>7.500909</td>\n",
       "      <td>7.500909</td>\n",
       "      <td>7.500000</td>\n",
       "      <td>7.500909</td>\n",
       "    </tr>\n",
       "    <tr>\n",
       "      <th>std</th>\n",
       "      <td>3.316625</td>\n",
       "      <td>3.316625</td>\n",
       "      <td>3.316625</td>\n",
       "      <td>3.316625</td>\n",
       "      <td>2.031568</td>\n",
       "      <td>2.031657</td>\n",
       "      <td>2.030424</td>\n",
       "      <td>2.030579</td>\n",
       "    </tr>\n",
       "  </tbody>\n",
       "</table>\n",
       "</div>"
      ],
      "text/plain": [
       "              x1         x2         x3         x4         y1         y2  \\\n",
       "count  11.000000  11.000000  11.000000  11.000000  11.000000  11.000000   \n",
       "mean    9.000000   9.000000   9.000000   9.000000   7.500909   7.500909   \n",
       "std     3.316625   3.316625   3.316625   3.316625   2.031568   2.031657   \n",
       "\n",
       "              y3         y4  \n",
       "count  11.000000  11.000000  \n",
       "mean    7.500000   7.500909  \n",
       "std     2.030424   2.030579  "
      ]
     },
     "execution_count": 5,
     "metadata": {},
     "output_type": "execute_result"
    }
   ],
   "source": [
    "# Use the built in pandas describe function to look at the relevant summary stats\n",
    "df.describe().loc[['count','mean','std']]"
   ]
  },
  {
   "cell_type": "markdown",
   "metadata": {},
   "source": [
    "The output from the `describe()` function shows firstly that there are 11 data points in the data set as expected. Aside from that there are 4 interesting points in these summary statistics:\n",
    "1. The mean value of the x column in all 4 data sets is identical (value is 9) \n",
    "1. The mean value of the y column in all 4 data sets is correct to 2 decimal places (approx 7.500)\n",
    "1. The standard deviation of the x column in all 4 data sets is identical (value is 3.316625)\n",
    "1. The standard deviation of the y column is all 4 data sets is similar (approx 2.031)\n",
    "\n",
    "This is quite extraordinary considering how different each data set looks when plotted!\n",
    "\n",
    "### Summaries of the relationships between the x-y pairs [14]\n",
    "\n",
    "Another way to summarise a dataset is to look at the relationship or corelation between the columns in the dataset. This can be done by using linear regression to determine the slope and y intercept value of the line which best fits the data. Linear regression is an iterative process used to find the line which has the minimum total deviation from all of the data points in the set. There is a function `stats.linregress` in the Scipy package that can be used to calulate the slope and y-intercept values for the best fit line. These values are calculated for the each of the 4 data sets below:"
   ]
  },
  {
   "cell_type": "code",
   "execution_count": 24,
   "metadata": {},
   "outputs": [
    {
     "name": "stdout",
     "output_type": "stream",
     "text": [
      "The equation for the best fit line for data set 1 is: y = 0.5x + 3.0\n",
      "The equation for the best fit line for data set 2 is: y = 0.5x + 3.0\n",
      "The equation for the best fit line for data set 3 is: y = 0.5x + 3.0\n",
      "The equation for the best fit line for data set 4 is: y = 0.5x + 3.0\n"
     ]
    }
   ],
   "source": [
    "# Calulate the correlation variables for each of the 4 data sets\n",
    "slope1, intercept1, r_value1, p_value1, std_err1 = stats.linregress(df.loc[:, 'x1'], df.loc[:, 'y1'])\n",
    "slope2, intercept2, r_value2, p_value2, std_err2 = stats.linregress(df.loc[:, 'x2'], df.loc[:, 'y2'])\n",
    "slope3, intercept3, r_value3, p_value3, std_err3 = stats.linregress(df.loc[:, 'x3'], df.loc[:, 'y3'])\n",
    "slope4, intercept4, r_value4, p_value4, std_err4 = stats.linregress(df.loc[:, 'x4'], df.loc[:, 'y4'])\n",
    "\n",
    "# Print out the equations for the best fit lines for each data set\n",
    "print(\"The equation for the best fit line for data set 1 is: y = \" + str(round(slope1,2)) + 'x + ' + str(round(intercept1,2)))\n",
    "print(\"The equation for the best fit line for data set 2 is: y = \" + str(round(slope2,2)) + 'x + ' + str(round(intercept2,2)))\n",
    "print(\"The equation for the best fit line for data set 3 is: y = \" + str(round(slope3,2)) + 'x + ' + str(round(intercept3,2)))\n",
    "print(\"The equation for the best fit line for data set 4 is: y = \" + str(round(slope4,2)) + 'x + ' + str(round(intercept4,2)))\n"
   ]
  },
  {
   "cell_type": "markdown",
   "metadata": {},
   "source": [
    "So the equations for the best fit lines for all 4 data sets is the exact same! Again this is quite amazing considering how different the 4 data sets look while plotting. There is another interesting statistic to be considered when discussing the Anscombe quartet. This is the *co-efficient of determination* and known as *R-squared*. The co-effiecent of determination for a linear regression problem is a measure of the *goodness of fit* in a regression model. Statisticians say that data fit a regression model well if the diferences between the observed data and the model are small. R-squared evaluates the scatter of the data around the regression line. Generally, the larger the value for R-squared, the better the data fit the model. The `stats.linregress` function has already calculated the R value for each data set, so we can square them and compare them for each set in the quartet."
   ]
  },
  {
   "cell_type": "code",
   "execution_count": 27,
   "metadata": {},
   "outputs": [
    {
     "name": "stdout",
     "output_type": "stream",
     "text": [
      "The R-squared value for data set 1 is :0.67\n",
      "The R-squared value for data set 2 is :0.67\n",
      "The R-squared value for data set 3 is :0.67\n",
      "The R-squared value for data set 4 is :0.67\n"
     ]
    }
   ],
   "source": [
    "# Print the R-squared value for each data set\n",
    "print(\"The R-squared value for data set 1 is :\" + str(round((r_value1**2),2)))\n",
    "print(\"The R-squared value for data set 2 is :\" + str(round((r_value2**2),2)))\n",
    "print(\"The R-squared value for data set 3 is :\" + str(round((r_value3**2),2)))\n",
    "print(\"The R-squared value for data set 4 is :\" + str(round((r_value4**2),2)))"
   ]
  },
  {
   "cell_type": "markdown",
   "metadata": {},
   "source": [
    "The R-squared values for the 4 data sets in the quartet are identical, this means that the the linear regression model used fits all 4 data sets equally well - regarless of how they look when plotted."
   ]
  },
  {
   "cell_type": "markdown",
   "metadata": {},
   "source": [
    "## 5. Discussion and Conclusions\n",
    "\n",
    "In this section the Anscombe quartet will be discussed in the context of how a data anlytics work flow could be developed to best analyse a particular data set. Each of the 4 data sets will be discussed in turn, and approriate analysis techniques will be applied based on some initial data exploration.\n",
    "\n",
    "### Anscombe Quartet Set 1\n",
    "\n",
    "Topics to cover:\n",
    "Outlier identification - use IQR and median, \n",
    "Analyse each set properly"
   ]
  },
  {
   "cell_type": "markdown",
   "metadata": {},
   "source": [
    "## References\n",
    "\n",
    "1. [1] Project Jupyter. Project Jupyter Home. (_https://www.jupyter.org/_)  \n",
    "1. [2] Math Warehouse. What is Anscombes Quarter in Statistics? (_https://www.mathwarehouse.com/statistics/what-is-anscombes-quartet.php_)  \n",
    "1. [3] Dr. Ian McLoughlin. GMIT. Assignment 2018: Fundamentals of Data Analysis (_https://github.com/ianmcloughlin/assignment-2018-fundda/raw/master/assignment.pdf_)  \n",
    "1. [4] R data sets. Anscombe’s quartet of identical simple linear regressions. (_https://github.com/vincentarelbundock/Rdatasets/blob/master/csv/datasets/anscombe.csv_)   \n",
    "1. [5] Royal Statistical Society. Obituaries - Frank Ascombe (_https://rss.onlinelibrary.wiley.com/doi/full/10.1046/j.0039-0526.2003.02064.x_)    \n",
    "1. [6] Wolfgang Saxon. New York Time Obituary (_https://www.nytimes.com/2001/10/25/nyregion/francis-john-anscombe-83-mathematician-and-professor.html_)  \n",
    "1. [7] Justin Matejka, George Fitzmaurice. Same Stats, Different Graphs: Generating Datasets with Varied Appearance and Identical Statistics through Simulated Annealing. (_https://www.autodeskresearch.com/publications/samestats_)  \n",
    "1. [8] Adrian Coyler. The Morning Paper: Same Stats, Different Graphs: Generating Datasets with Varied Appearance and Identical Statistics through Simulated Annealing. (_https://blog.acolyer.org/2017/10/31/same-stats-different-graphs-generating-datasets-with-varied-appearance-and-identical-statistics-through-simulated-annealing/_)  \n",
    "1. [9] Lee Jacobson. The Problem Spot: Simulate Annealing for Beginners (_http://www.theprojectspot.com/tutorial-post/simulated-annealing-algorithm-for-beginners/6_)   \n",
    "1. [10] Matplotlib Development Team. matplotlib.pyplot.subplots. (*https://matplotlib.org/api/_as_gen/matplotlib.pyplot.subplots.html*)   \n",
    "1. [11] Matplotlib Development Team. Customising plots with style sheets. (*https://matplotlib.org/users/style_sheets.html*)   \n",
    "1. [12] Stackoverflow. How to make inline plots in Jupyter Notebook larger? (*https://stackoverflow.com/questions/36367986/how-to-make-inline-plots-in-jupyter-notebook-larger*)  \n",
    "1. [13] www.plot.ly. Linear Fit in Matplotlib. (*https://plot.ly/matplotlib/linear-fits/*)    \n",
    "1. [14] www.statisticsbyjim.com. How to interpret R-squared in Regression Analysis. (*http://statisticsbyjim.com/regression/interpret-r-squared-regression/*)"
   ]
  },
  {
   "cell_type": "markdown",
   "metadata": {},
   "source": [
    "# DONT FORGET TO UPDATE THE README.md FILE!!"
   ]
  },
  {
   "cell_type": "code",
   "execution_count": null,
   "metadata": {},
   "outputs": [],
   "source": []
  }
 ],
 "metadata": {
  "kernelspec": {
   "display_name": "Python 3",
   "language": "python",
   "name": "python3"
  },
  "language_info": {
   "codemirror_mode": {
    "name": "ipython",
    "version": 3
   },
   "file_extension": ".py",
   "mimetype": "text/x-python",
   "name": "python",
   "nbconvert_exporter": "python",
   "pygments_lexer": "ipython3",
   "version": "3.6.6"
  }
 },
 "nbformat": 4,
 "nbformat_minor": 2
}
